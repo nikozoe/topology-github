{
 "cells": [
  {
   "cell_type": "markdown",
   "metadata": {},
   "source": [
    "# Scrape issue comments from ghtorrent data base\n",
    "Because it is faster ( and still takes a lot of time) we first scrape the relevant issue comment ids from the mysql data base.\n",
    "Subsequently we use these ids to access the actual text data from the mongodb database."
   ]
  },
  {
   "cell_type": "code",
   "execution_count": 1,
   "metadata": {},
   "outputs": [],
   "source": [
    "import pickle\n",
    "from pymongo import MongoClient\n",
    "import MySQLdb\n",
    "from collections import defaultdict"
   ]
  },
  {
   "cell_type": "code",
   "execution_count": 2,
   "metadata": {},
   "outputs": [],
   "source": [
    "# connect to ghtorrent mysql data base\n",
    "db=MySQLdb.connect(\n",
    "                 host=\"127.0.0.1\",\n",
    "                 user=\"root\",\n",
    "                 passwd=\"enterenter\"\n",
    "               )\n",
    "cursor = db.cursor()\n",
    "cursor.execute(\"use ghtorrent_restore\")\n",
    "\n",
    "#connect to mongodb database\n",
    "client = MongoClient(unicode_decode_error_handler='ignore')\n",
    "mongodb = client.github\n",
    "\n",
    "\n",
    "def get_comments_for_project(_id, date1, date2):\n",
    "    sqlstr=\"\"\"\n",
    "            select ico.comment_id from issue_comments ico, issues iss\n",
    "            where iss.repo_id = %s\n",
    "            and ico.created_at BETWEEN date('%s') AND date('%s')\n",
    "            and ico.issue_id=iss.id\n",
    "    \"\"\"%(_id, date1, date2)\n",
    "    cursor.execute(sqlstr)\n",
    "    return cursor.fetchall()"
   ]
  },
  {
   "cell_type": "code",
   "execution_count": null,
   "metadata": {},
   "outputs": [],
   "source": [
    "final_partition= pickle.load(open(\"data/final_partition\", \"rb\"))\n",
    "repoidlist = list(final_partition.keys())"
   ]
  },
  {
   "cell_type": "code",
   "execution_count": 30,
   "metadata": {},
   "outputs": [],
   "source": [
    "commentdata=defaultdict(list)\n",
    "\n",
    "d1 = \"2016-10-01\"\n",
    "d2 = \"2017-03-01\"\n",
    "\n",
    "for repo_id in repoidlist:\n",
    "    res=get_comments_for_project(repo_id, d1, d2)\n",
    "    idlist=[int(x[0]) for x in res]\n",
    "    for c_id in idlist:\n",
    "        try:\n",
    "            comment=mongodb['issue_comments'].find_one({\"id\": c_id})\n",
    "            c_obj={}\n",
    "            c_obj[\"comment\"]=comment\n",
    "            commentdata[repo_id].append(c_obj)\n",
    "        except:\n",
    "            pass"
   ]
  },
  {
   "cell_type": "code",
   "execution_count": null,
   "metadata": {},
   "outputs": [],
   "source": [
    "pickle.dump(commentdata, open(\"issue_comments.p\", \"wb\"))"
   ]
  }
 ],
 "metadata": {
  "kernelspec": {
   "display_name": "Python 3",
   "language": "python",
   "name": "python3"
  },
  "language_info": {
   "codemirror_mode": {
    "name": "ipython",
    "version": 3
   },
   "file_extension": ".py",
   "mimetype": "text/x-python",
   "name": "python",
   "nbconvert_exporter": "python",
   "pygments_lexer": "ipython3",
   "version": "3.7.0"
  }
 },
 "nbformat": 4,
 "nbformat_minor": 2
}
