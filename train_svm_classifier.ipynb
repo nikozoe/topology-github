{
 "cells": [
  {
   "cell_type": "markdown",
   "metadata": {},
   "source": [
    "# Cluster classifier\n",
    "In this notebook we train a classifier on the found partition, so that we can classify projects into one of the group types from the found cluster typology"
   ]
  },
  {
   "cell_type": "code",
   "execution_count": 1,
   "metadata": {},
   "outputs": [],
   "source": [
    "import numpy as np\n",
    "import pickle\n",
    "from sklearn.model_selection import train_test_split\n",
    "from sklearn.model_selection import GridSearchCV\n",
    "from sklearn.svm import SVC\n",
    "\n",
    "from sklearn.metrics import mean_squared_error\n",
    "from sklearn.metrics import mean_absolute_error\n",
    "from sklearn.metrics import f1_score\n",
    "from sklearn.metrics import accuracy_score"
   ]
  },
  {
   "cell_type": "markdown",
   "metadata": {},
   "source": [
    "#### Prepare data for training and validation"
   ]
  },
  {
   "cell_type": "code",
   "execution_count": 4,
   "metadata": {},
   "outputs": [],
   "source": [
    "#load feature vectors\n",
    "feature_vecs_8to20=pickle.load( open(\"data/feature_vecs_8to20.p\", \"rb\"))\n",
    "#load partition\n",
    "partition= pickle.load(open(\"data/final_partition\", \"rb\"))"
   ]
  },
  {
   "cell_type": "code",
   "execution_count": 5,
   "metadata": {},
   "outputs": [],
   "source": [
    "X_vecs=[]\n",
    "y=[]\n",
    "for key,val in partition.items():\n",
    "    X_vecs.append(feature_vecs_8to20_crop[key])\n",
    "    y.append(val)"
   ]
  },
  {
   "cell_type": "code",
   "execution_count": 6,
   "metadata": {},
   "outputs": [],
   "source": [
    "# Split the dataset in two parts, a training set and a test set\n",
    "X_train_vec, X_test_vec, y_train_vec, y_test_vec  = train_test_split(\n",
    "    X_vecs, y, test_size=0.2, random_state=0)"
   ]
  },
  {
   "cell_type": "markdown",
   "metadata": {},
   "source": [
    "We perform a grid search for cross-validation of the best hyper parameter set for the support vector machine"
   ]
  },
  {
   "cell_type": "code",
   "execution_count": 7,
   "metadata": {},
   "outputs": [
    {
     "name": "stdout",
     "output_type": "stream",
     "text": [
      "\n",
      "# Tuning hyper-parameters for neg_mean_squared_error\n",
      "\n"
     ]
    },
    {
     "name": "stderr",
     "output_type": "stream",
     "text": [
      "/home/trurl/anaconda3/envs/myenv/lib/python3.7/site-packages/sklearn/model_selection/_split.py:2053: FutureWarning: You should specify a value for 'cv' instead of relying on the default value. The default value will change from 3 to 5 in version 0.22.\n",
      "  warnings.warn(CV_WARNING, FutureWarning)\n"
     ]
    },
    {
     "name": "stdout",
     "output_type": "stream",
     "text": [
      "Best parameters set found on development set:\n",
      "\n",
      "{'C': 12, 'gamma': 0.006}\n",
      "\n",
      "Grid scores on development set:\n",
      "\n",
      "-0.018 (+/-0.006) for {'C': 8, 'gamma': 0.003}\n",
      "-0.018 (+/-0.012) for {'C': 8, 'gamma': 0.004}\n",
      "-0.015 (+/-0.003) for {'C': 8, 'gamma': 0.005}\n",
      "-0.015 (+/-0.003) for {'C': 8, 'gamma': 0.006}\n",
      "-0.016 (+/-0.006) for {'C': 9, 'gamma': 0.003}\n",
      "-0.016 (+/-0.006) for {'C': 9, 'gamma': 0.004}\n",
      "-0.015 (+/-0.003) for {'C': 9, 'gamma': 0.005}\n",
      "-0.015 (+/-0.003) for {'C': 9, 'gamma': 0.006}\n",
      "-0.016 (+/-0.006) for {'C': 10, 'gamma': 0.003}\n",
      "-0.015 (+/-0.003) for {'C': 10, 'gamma': 0.004}\n",
      "-0.017 (+/-0.009) for {'C': 10, 'gamma': 0.005}\n",
      "-0.015 (+/-0.003) for {'C': 10, 'gamma': 0.006}\n",
      "-0.016 (+/-0.006) for {'C': 11, 'gamma': 0.003}\n",
      "-0.015 (+/-0.003) for {'C': 11, 'gamma': 0.004}\n",
      "-0.017 (+/-0.009) for {'C': 11, 'gamma': 0.005}\n",
      "-0.013 (+/-0.009) for {'C': 11, 'gamma': 0.006}\n",
      "-0.016 (+/-0.006) for {'C': 12, 'gamma': 0.003}\n",
      "-0.017 (+/-0.009) for {'C': 12, 'gamma': 0.004}\n",
      "-0.017 (+/-0.009) for {'C': 12, 'gamma': 0.005}\n",
      "-0.011 (+/-0.015) for {'C': 12, 'gamma': 0.006}\n",
      "\n",
      "# Tuning hyper-parameters for accuracy\n",
      "\n"
     ]
    },
    {
     "name": "stderr",
     "output_type": "stream",
     "text": [
      "/home/trurl/anaconda3/envs/myenv/lib/python3.7/site-packages/sklearn/model_selection/_split.py:2053: FutureWarning: You should specify a value for 'cv' instead of relying on the default value. The default value will change from 3 to 5 in version 0.22.\n",
      "  warnings.warn(CV_WARNING, FutureWarning)\n"
     ]
    },
    {
     "name": "stdout",
     "output_type": "stream",
     "text": [
      "Best parameters set found on development set:\n",
      "\n",
      "{'C': 12, 'gamma': 0.006}\n",
      "\n",
      "Grid scores on development set:\n",
      "\n",
      "0.997 (+/-0.002) for {'C': 8, 'gamma': 0.003}\n",
      "0.997 (+/-0.003) for {'C': 8, 'gamma': 0.004}\n",
      "0.998 (+/-0.002) for {'C': 8, 'gamma': 0.005}\n",
      "0.997 (+/-0.001) for {'C': 8, 'gamma': 0.006}\n",
      "0.997 (+/-0.002) for {'C': 9, 'gamma': 0.003}\n",
      "0.997 (+/-0.002) for {'C': 9, 'gamma': 0.004}\n",
      "0.998 (+/-0.002) for {'C': 9, 'gamma': 0.005}\n",
      "0.997 (+/-0.001) for {'C': 9, 'gamma': 0.006}\n",
      "0.997 (+/-0.002) for {'C': 10, 'gamma': 0.003}\n",
      "0.998 (+/-0.002) for {'C': 10, 'gamma': 0.004}\n",
      "0.997 (+/-0.002) for {'C': 10, 'gamma': 0.005}\n",
      "0.997 (+/-0.001) for {'C': 10, 'gamma': 0.006}\n",
      "0.997 (+/-0.002) for {'C': 11, 'gamma': 0.003}\n",
      "0.998 (+/-0.002) for {'C': 11, 'gamma': 0.004}\n",
      "0.997 (+/-0.002) for {'C': 11, 'gamma': 0.005}\n",
      "0.998 (+/-0.002) for {'C': 11, 'gamma': 0.006}\n",
      "0.997 (+/-0.002) for {'C': 12, 'gamma': 0.003}\n",
      "0.997 (+/-0.002) for {'C': 12, 'gamma': 0.004}\n",
      "0.997 (+/-0.002) for {'C': 12, 'gamma': 0.005}\n",
      "0.998 (+/-0.002) for {'C': 12, 'gamma': 0.006}\n"
     ]
    }
   ],
   "source": [
    "# Set the parameters by cross-validation\n",
    "tuned_parameters = [{ 'gamma': [0.003, 0.004, 0.005, 0.006],\n",
    "                     'C': [8,9,10, 11, 12]}]\n",
    "\n",
    "scores = ['neg_mean_squared_error', 'accuracy']\n",
    "\n",
    "for score in scores:\n",
    "    print()\n",
    "    print(\"# Tuning hyper-parameters for %s\" % score)\n",
    "    print()\n",
    "\n",
    "    clf = GridSearchCV(SVC(C=1, kernel=\"rbf\"), tuned_parameters,\n",
    "                       scoring='%s' % score)\n",
    "    clf.fit(X_train_vec, y_train_vec)\n",
    "\n",
    "    print(\"Best parameters set found on development set:\")\n",
    "    print()\n",
    "    print(clf.best_params_)\n",
    "    print()\n",
    "    print(\"Grid scores on development set:\")\n",
    "    print()\n",
    "    means = clf.cv_results_['mean_test_score']\n",
    "    stds = clf.cv_results_['std_test_score']\n",
    "    for mean, std, params in zip(means, stds, clf.cv_results_['params']):\n",
    "        print(\"%0.3f (+/-%0.03f) for %r\"\n",
    "              % (mean, std * 2, params))"
   ]
  },
  {
   "cell_type": "markdown",
   "metadata": {},
   "source": [
    "We set the hyper parameter according to the best result on the grid search and train the model on the training data "
   ]
  },
  {
   "cell_type": "code",
   "execution_count": 8,
   "metadata": {},
   "outputs": [
    {
     "data": {
      "text/plain": [
       "SVC(C=12, cache_size=200, class_weight=None, coef0=0.0,\n",
       "  decision_function_shape='ovr', degree=3, gamma=0.006, kernel='rbf',\n",
       "  max_iter=-1, probability=False, random_state=None, shrinking=True,\n",
       "  tol=0.001, verbose=False)"
      ]
     },
     "execution_count": 8,
     "metadata": {},
     "output_type": "execute_result"
    }
   ],
   "source": [
    "# train model \n",
    "svm = SVC(kernel='rbf', C=12, gamma=0.006)\n",
    "svm.fit(X_train_vec,y_train_vec)"
   ]
  },
  {
   "cell_type": "code",
   "execution_count": 9,
   "metadata": {},
   "outputs": [
    {
     "data": {
      "text/plain": [
       "0.9961538461538462"
      ]
     },
     "execution_count": 9,
     "metadata": {},
     "output_type": "execute_result"
    }
   ],
   "source": [
    "accuracy_score(y_test_vec, svm.predict(X_test_vec))"
   ]
  },
  {
   "cell_type": "code",
   "execution_count": 10,
   "metadata": {},
   "outputs": [
    {
     "name": "stdout",
     "output_type": "stream",
     "text": [
      "None:  [0.9977221  1.         0.99526066 0.98591549 0.98550725]\n",
      "micro:  0.9961538461538462\n",
      "macro:  0.9928810997027299\n",
      "weighted:  0.9961579464795132\n"
     ]
    }
   ],
   "source": [
    "\n",
    "print(\"None: \", f1_score(y_test_vec, svm.predict(X_test_vec), average=None))\n",
    "print(\"micro: \", f1_score(y_test_vec, svm.predict(X_test_vec), average=\"micro\"))\n",
    "print(\"macro: \", f1_score(y_test_vec, svm.predict(X_test_vec), average=\"macro\"))\n",
    "print(\"weighted: \", f1_score(y_test_vec, svm.predict(X_test_vec), average=\"weighted\"))"
   ]
  },
  {
   "cell_type": "code",
   "execution_count": 11,
   "metadata": {},
   "outputs": [],
   "source": [
    "pickle.dump(svm, open('./data/svm_classifier.p', 'wb'))"
   ]
  }
 ],
 "metadata": {
  "kernelspec": {
   "display_name": "Python 3",
   "language": "python",
   "name": "python3"
  },
  "language_info": {
   "codemirror_mode": {
    "name": "ipython",
    "version": 3
   },
   "file_extension": ".py",
   "mimetype": "text/x-python",
   "name": "python",
   "nbconvert_exporter": "python",
   "pygments_lexer": "ipython3",
   "version": "3.7.0"
  }
 },
 "nbformat": 4,
 "nbformat_minor": 2
}
